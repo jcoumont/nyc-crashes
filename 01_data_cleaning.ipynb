{
 "cells": [
  {
   "cell_type": "markdown",
   "metadata": {},
   "source": [
    "# NYC Motor Vehicle Crashes\n",
    "## Data cleaning"
   ]
  },
  {
   "cell_type": "code",
   "execution_count": 1,
   "metadata": {},
   "outputs": [],
   "source": [
    "import re\n",
    "\n",
    "import pandas as pd\n",
    "import numpy as np\n",
    "\n",
    "from pandas_profiling import ProfileReport"
   ]
  },
  {
   "cell_type": "code",
   "execution_count": 39,
   "metadata": {},
   "outputs": [],
   "source": [
    "pd.set_option(\"display.max_columns\", None)"
   ]
  },
  {
   "cell_type": "code",
   "execution_count": 3,
   "metadata": {},
   "outputs": [],
   "source": [
    "file_size = 10000\n",
    "filename = f\"data/data_{file_size}.csv\"\n",
    "\n",
    "dtypes = {\"crash_date\": str,\n",
    "          \"crash_time\": str,\n",
    "          \"borough\": str,\n",
    "          \"zip_code\": str,\n",
    "          \"latitude\": float, \n",
    "          \"longitude\": float, \n",
    "          \"location\": str,\n",
    "          \"on_street_name\": str,\n",
    "          \"off_street_name\": str,\n",
    "          \"cross_street_name\": str,\n",
    "          \"number_of_persons_injured\": str,\n",
    "          \"number_of_persons_killed\": str,\n",
    "          \"number_of_pedestrians_injured\": int,\n",
    "          \"number_of_pedestrians_killed\": int,\n",
    "          \"number_of_cyclist_injured\": int,\n",
    "          \"number_of_cyclist_killed\": int,\n",
    "          \"number_of_motorist_injured\": int,\n",
    "          \"number_of_motorist_killed\": int,\n",
    "          \"contributing_factor_vehicle_1\": str,\n",
    "          \"contributing_factor_vehicle_2\": str,\n",
    "          \"contributing_factor_vehicle_3\": str,\n",
    "          \"contributing_factor_vehicle_4\": str,\n",
    "          \"contributing_factor_vehicle_5\": str,\n",
    "          \"collision_id\": int,\n",
    "          \"vehicle_type_code1\": str,\n",
    "          \"vehicle_type_code2\": str,\n",
    "          \"vehicle_type_code_3\": str,\n",
    "          \"vehicle_type_code_4\": str,\n",
    "          \"vehicle_type_code_5\": str}\n",
    "\n",
    "nyc_mvc = pd.read_csv(filename, dtype=dtypes)"
   ]
  },
  {
   "cell_type": "markdown",
   "metadata": {},
   "source": [
    "## Data Profiling"
   ]
  },
  {
   "cell_type": "code",
   "execution_count": 4,
   "metadata": {},
   "outputs": [
    {
     "data": {
      "application/vnd.jupyter.widget-view+json": {
       "model_id": "ee571dfe6ac6444f9be4367eae51a661",
       "version_major": 2,
       "version_minor": 0
      },
      "text/plain": [
       "HBox(children=(HTML(value='Summarize dataset'), FloatProgress(value=0.0, max=43.0), HTML(value='')))"
      ]
     },
     "metadata": {},
     "output_type": "display_data"
    },
    {
     "name": "stdout",
     "output_type": "stream",
     "text": [
      "\n"
     ]
    },
    {
     "data": {
      "application/vnd.jupyter.widget-view+json": {
       "model_id": "952017d0aa5449e2b3dfa1f1a464c82b",
       "version_major": 2,
       "version_minor": 0
      },
      "text/plain": [
       "HBox(children=(HTML(value='Generate report structure'), FloatProgress(value=0.0, max=1.0), HTML(value='')))"
      ]
     },
     "metadata": {},
     "output_type": "display_data"
    },
    {
     "name": "stdout",
     "output_type": "stream",
     "text": [
      "\n"
     ]
    },
    {
     "data": {
      "application/vnd.jupyter.widget-view+json": {
       "model_id": "bf511cb55b9347d4b2a0ed595ec8ace4",
       "version_major": 2,
       "version_minor": 0
      },
      "text/plain": [
       "HBox(children=(HTML(value='Render HTML'), FloatProgress(value=0.0, max=1.0), HTML(value='')))"
      ]
     },
     "metadata": {},
     "output_type": "display_data"
    },
    {
     "name": "stdout",
     "output_type": "stream",
     "text": [
      "\n"
     ]
    },
    {
     "data": {
      "application/vnd.jupyter.widget-view+json": {
       "model_id": "b2bf4fd253974d558094f1e9dee93afc",
       "version_major": 2,
       "version_minor": 0
      },
      "text/plain": [
       "HBox(children=(HTML(value='Export report to file'), FloatProgress(value=0.0, max=1.0), HTML(value='')))"
      ]
     },
     "metadata": {},
     "output_type": "display_data"
    },
    {
     "name": "stdout",
     "output_type": "stream",
     "text": [
      "\n"
     ]
    }
   ],
   "source": [
    "prof = ProfileReport(nyc_mvc)\n",
    "prof.to_file(output_file=f\"profiling/profile_report_{file_size}_in.html\")"
   ]
  },
  {
   "cell_type": "markdown",
   "metadata": {},
   "source": [
    "## Check missing values"
   ]
  },
  {
   "cell_type": "code",
   "execution_count": 5,
   "metadata": {},
   "outputs": [
    {
     "data": {
      "text/plain": [
       "crash_date                          0\n",
       "crash_time                          0\n",
       "borough                          3761\n",
       "zip_code                         3761\n",
       "latitude                          987\n",
       "longitude                         987\n",
       "location                          987\n",
       "on_street_name                   2588\n",
       "off_street_name                  5423\n",
       "cross_street_name                7412\n",
       "number_of_persons_injured           0\n",
       "number_of_persons_killed            0\n",
       "number_of_pedestrians_injured       0\n",
       "number_of_pedestrians_killed        0\n",
       "number_of_cyclist_injured           0\n",
       "number_of_cyclist_killed            0\n",
       "number_of_motorist_injured          0\n",
       "number_of_motorist_killed           0\n",
       "contributing_factor_vehicle_1      58\n",
       "contributing_factor_vehicle_2    2533\n",
       "contributing_factor_vehicle_3    8984\n",
       "contributing_factor_vehicle_4    9734\n",
       "contributing_factor_vehicle_5    9906\n",
       "collision_id                        0\n",
       "vehicle_type_code1                119\n",
       "vehicle_type_code2               3492\n",
       "vehicle_type_code_3              9047\n",
       "vehicle_type_code_4              9743\n",
       "vehicle_type_code_5              9908\n",
       "dtype: int64"
      ]
     },
     "execution_count": 5,
     "metadata": {},
     "output_type": "execute_result"
    }
   ],
   "source": [
    "# Check how many rows of each attribute are NaN\n",
    "nyc_mvc.isnull().sum()"
   ]
  },
  {
   "cell_type": "code",
   "execution_count": 6,
   "metadata": {},
   "outputs": [
    {
     "data": {
      "text/plain": [
       "<AxesSubplot:>"
      ]
     },
     "execution_count": 6,
     "metadata": {},
     "output_type": "execute_result"
    },
    {
     "data": {
      "image/png": "[encoded data removed]",
      "text/plain": [
       "<Figure size 432x288 with 1 Axes>"
      ]
     },
     "metadata": {
      "needs_background": "light"
     },
     "output_type": "display_data"
    }
   ],
   "source": [
    "nyc_mvc.isnull().sum().plot.bar()"
   ]
  },
  {
   "cell_type": "code",
   "execution_count": 7,
   "metadata": {},
   "outputs": [
    {
     "data": {
      "text/plain": [
       "<AxesSubplot:>"
      ]
     },
     "execution_count": 7,
     "metadata": {},
     "output_type": "execute_result"
    },
    {
     "data": {
      "image/png": "[encoded data removed]",
      "text/plain": [
       "<Figure size 432x288 with 1 Axes>"
      ]
     },
     "metadata": {
      "needs_background": "light"
     },
     "output_type": "display_data"
    }
   ],
   "source": [
    "# Check missing value per row\n",
    "missing_value_per_row = nyc_mvc.isnull().sum(axis=1)\n",
    "cnt_missing_value = missing_value_per_row.value_counts().sort_index()\n",
    "cnt_missing_value.plot.bar()"
   ]
  },
  {
   "cell_type": "code",
   "execution_count": 8,
   "metadata": {},
   "outputs": [
    {
     "data": {
      "text/plain": [
       "137"
      ]
     },
     "execution_count": 8,
     "metadata": {},
     "output_type": "execute_result"
    }
   ],
   "source": [
    "# Count rows with more than 50% of missing values\n",
    "missing_limit = nyc_mvc.shape[1] / 2\n",
    "len(missing_value_per_row[missing_value_per_row > missing_limit])"
   ]
  },
  {
   "cell_type": "markdown",
   "metadata": {},
   "source": [
    "## Check duplicates"
   ]
  },
  {
   "cell_type": "code",
   "execution_count": 9,
   "metadata": {},
   "outputs": [],
   "source": [
    "# Check for duplicates and delete them if exists\n",
    "if(nyc_mvc.duplicated().any()):\n",
    "    nyc_mvc.drop_duplicates(inplace=True)"
   ]
  },
  {
   "cell_type": "markdown",
   "metadata": {},
   "source": [
    "## Standardization"
   ]
  },
  {
   "cell_type": "markdown",
   "metadata": {},
   "source": [
    "##### Column name"
   ]
  },
  {
   "cell_type": "code",
   "execution_count": 10,
   "metadata": {},
   "outputs": [],
   "source": [
    "nyc_mvc.rename(columns = {\"vehicle_type_code1\": \"vehicle_type_code_1\", \n",
    "                          \"vehicle_type_code2\": \"vehicle_type_code_2\"}, inplace = True)"
   ]
  },
  {
   "cell_type": "markdown",
   "metadata": {},
   "source": [
    "##### String"
   ]
  },
  {
   "cell_type": "code",
   "execution_count": 11,
   "metadata": {},
   "outputs": [],
   "source": [
    "# Remove leading and trailing withespaces\n",
    "# and title if it's a string value\n",
    "# and multiple space\n",
    "# If value is empty return NaN\n",
    "def standardization_str(x):\n",
    "    if type(x) is str:\n",
    "        value = x.strip().title()\n",
    "        value = re.sub(\"\\s+\", ' ', value)\n",
    "        return value if len(value) > 0 else np.NaN\n",
    "    return x"
   ]
  },
  {
   "cell_type": "code",
   "execution_count": 12,
   "metadata": {},
   "outputs": [],
   "source": [
    "nyc_mvc = nyc_mvc.applymap(standardization_str)"
   ]
  },
  {
   "cell_type": "markdown",
   "metadata": {},
   "source": [
    "## Remove encoding error"
   ]
  },
  {
   "cell_type": "markdown",
   "metadata": {},
   "source": [
    "##### On location"
   ]
  },
  {
   "cell_type": "code",
   "execution_count": 13,
   "metadata": {},
   "outputs": [],
   "source": [
    "# Location = 0,0\n",
    "nyc_mvc.longitude.replace(0, np.nan, inplace=True)\n",
    "nyc_mvc.latitude.replace(0, np.nan, inplace=True)\n",
    "nyc_mvc.location.replace(\"(0.0, 0.0)\", np.nan, inplace=True)"
   ]
  },
  {
   "cell_type": "markdown",
   "metadata": {},
   "source": [
    "##### On Street"
   ]
  },
  {
   "cell_type": "code",
   "execution_count": 14,
   "metadata": {},
   "outputs": [],
   "source": [
    "# Only numeric value\n",
    "replace_values = r\"^\\d+$\"\n",
    "replace_by = np.NaN\n",
    "\n",
    "nyc_mvc.on_street_name = nyc_mvc.on_street_name.replace(replace_values, replace_by, regex=True)\n",
    "nyc_mvc.off_street_name = nyc_mvc.off_street_name.replace(replace_values, replace_by, regex=True)\n",
    "nyc_mvc.cross_street_name = nyc_mvc.cross_street_name.replace(replace_values, replace_by, regex=True)"
   ]
  },
  {
   "cell_type": "code",
   "execution_count": 15,
   "metadata": {},
   "outputs": [],
   "source": [
    "# value with \"&\"\n",
    "replace_values = r\".*&.*\"\n",
    "replace_by = np.NaN\n",
    "\n",
    "nyc_mvc.on_street_name = nyc_mvc.on_street_name.replace(replace_values, replace_by, regex=True)\n",
    "nyc_mvc.off_street_name = nyc_mvc.off_street_name.replace(replace_values, replace_by, regex=True)\n",
    "nyc_mvc.cross_street_name = nyc_mvc.cross_street_name.replace(replace_values, replace_by, regex=True)"
   ]
  },
  {
   "cell_type": "markdown",
   "metadata": {},
   "source": [
    "##### On Vehicule type code"
   ]
  },
  {
   "cell_type": "code",
   "execution_count": 16,
   "metadata": {},
   "outputs": [],
   "source": [
    "# UKN - UNKNOWN - UNKOWN\n",
    "replace_values = (\"UKN\", \"UNKOWN\", \"UNKNOWN\") \n",
    "replace_by = np.NaN\n",
    "\n",
    "nyc_mvc.vehicle_type_code_1 = nyc_mvc.vehicle_type_code_1.replace(replace_values, replace_by)\n",
    "nyc_mvc.vehicle_type_code_2 = nyc_mvc.vehicle_type_code_2.replace(replace_values, replace_by)\n",
    "nyc_mvc.vehicle_type_code_3 = nyc_mvc.vehicle_type_code_3.replace(replace_values, replace_by)\n",
    "nyc_mvc.vehicle_type_code_4 = nyc_mvc.vehicle_type_code_4.replace(replace_values, replace_by)\n",
    "nyc_mvc.vehicle_type_code_5 = nyc_mvc.vehicle_type_code_5.replace(replace_values, replace_by)"
   ]
  },
  {
   "cell_type": "markdown",
   "metadata": {},
   "source": [
    "##### Check missing values after correction"
   ]
  },
  {
   "cell_type": "code",
   "execution_count": 17,
   "metadata": {},
   "outputs": [
    {
     "data": {
      "text/plain": [
       "crash_date                          0\n",
       "crash_time                          0\n",
       "borough                          3761\n",
       "zip_code                         3761\n",
       "latitude                          994\n",
       "longitude                         994\n",
       "location                          994\n",
       "on_street_name                   2590\n",
       "off_street_name                  5427\n",
       "cross_street_name                7412\n",
       "number_of_persons_injured           0\n",
       "number_of_persons_killed            0\n",
       "number_of_pedestrians_injured       0\n",
       "number_of_pedestrians_killed        0\n",
       "number_of_cyclist_injured           0\n",
       "number_of_cyclist_killed            0\n",
       "number_of_motorist_injured          0\n",
       "number_of_motorist_killed           0\n",
       "contributing_factor_vehicle_1      58\n",
       "contributing_factor_vehicle_2    2533\n",
       "contributing_factor_vehicle_3    8984\n",
       "contributing_factor_vehicle_4    9734\n",
       "contributing_factor_vehicle_5    9906\n",
       "collision_id                        0\n",
       "vehicle_type_code_1               119\n",
       "vehicle_type_code_2              3492\n",
       "vehicle_type_code_3              9047\n",
       "vehicle_type_code_4              9743\n",
       "vehicle_type_code_5              9908\n",
       "dtype: int64"
      ]
     },
     "execution_count": 17,
     "metadata": {},
     "output_type": "execute_result"
    }
   ],
   "source": [
    "# Check how many rows of each attribute are NaN\n",
    "nyc_mvc.isnull().sum()"
   ]
  },
  {
   "cell_type": "markdown",
   "metadata": {},
   "source": [
    "## Missing value"
   ]
  },
  {
   "cell_type": "raw",
   "metadata": {},
   "source": [
    "MISSING VALUES ==> TO TREAT (Result on 10.000)\n",
    "\n",
    "borough                          3761 Hard -> Computed (37 -> +/-26%)\n",
    "zip_code                         3761 Hard -> Computed\n",
    "latitude                          994 Hard -> Computed attempted bad result less than 0.3%\n",
    "longitude                         994 Hard -> Computed attempted bad result less than 0.3%\n",
    "location                          994 Hard -> Computed attempted bad result less than 0.3%\n",
    "on_street_name                   2588 Hard -> Computed\n",
    "off_street_name                  5423 Hard -> Computed\n",
    "cross_street_name                7412 Hard -> Computed\n",
    "contributing_factor_vehicle_1      58 Easy -> Unspecified\n",
    "contributing_factor_vehicle_2    2533 Easy -> Unspecified \n",
    "contributing_factor_vehicle_3    8984 Easy -> Unspecified\n",
    "contributing_factor_vehicle_4    9734 Easy -> Unspecified\n",
    "contributing_factor_vehicle_5    9906 Easy -> Unspecified\n",
    "vehicle_type_code1                119 Medi -> Unspecified + Standardisation list -> Other\n",
    "vehicle_type_code2               3492 Medi -> Unspecified + Standardisation list -> Other\n",
    "vehicle_type_code_3              9047 Medi -> Unspecified + Standardisation list -> Other\n",
    "vehicle_type_code_4              9743 Medi -> Unspecified + Standardisation list -> Other\n",
    "vehicle_type_code_5              9908 Medi -> Unspecified + Standardisation list -> Other"
   ]
  },
  {
   "cell_type": "code",
   "execution_count": 18,
   "metadata": {},
   "outputs": [
    {
     "name": "stdout",
     "output_type": "stream",
     "text": [
      "## crash_date - 161 ####################\n",
      "## crash_time - 1283 ####################\n",
      "## borough - 6 ####################\n",
      "[nan 'Queens' 'Bronx' 'Brooklyn' 'Manhattan' 'Staten Island']\n",
      "## zip_code - 184 ####################\n",
      "## latitude - 7249 ####################\n",
      "## longitude - 6865 ####################\n",
      "## location - 7628 ####################\n",
      "## on_street_name - 1800 ####################\n",
      "## off_street_name - 1818 ####################\n",
      "## cross_street_name - 2535 ####################\n",
      "## number_of_persons_injured - 10 ####################\n",
      "['0' '1' '3' '2' '4' '5' '7' '6' '8' '10']\n",
      "## number_of_persons_killed - 3 ####################\n",
      "['0' '1' '2']\n",
      "## number_of_pedestrians_injured - 5 ####################\n",
      "[0 1 2 4 3]\n",
      "## number_of_pedestrians_killed - 3 ####################\n",
      "[0 1 2]\n",
      "## number_of_cyclist_injured - 3 ####################\n",
      "[0 1 2]\n",
      "## number_of_cyclist_killed - 2 ####################\n",
      "[0 1]\n",
      "## number_of_motorist_injured - 10 ####################\n",
      "[ 0  1  3  2  4  5  7  6  8 10]\n",
      "## number_of_motorist_killed - 3 ####################\n",
      "[0 1 2]\n",
      "## contributing_factor_vehicle_1 - 51 ####################\n",
      "['Reaction To Uninvolved Vehicle' nan 'Unspecified' 'Backing Unsafely'\n",
      " 'Pavement Slippery' 'Fell Asleep' 'Driver Inattention/Distraction'\n",
      " 'Following Too Closely' 'Unsafe Lane Changing' 'Unsafe Speed'\n",
      " 'Other Vehicular' 'Traffic Control Disregarded' 'Turning Improperly'\n",
      " 'Oversized Vehicle' 'Driver Inexperience'\n",
      " 'Passing Or Lane Usage Improper' 'Failure To Yield Right-Of-Way'\n",
      " 'Alcohol Involvement' 'Drugs (Illegal)'\n",
      " 'Pedestrian/Bicyclist/Other Pedestrian Error/Confusion' 'Fatigued/Drowsy'\n",
      " 'View Obstructed/Limited' 'Passing Too Closely' 'Obstruction/Debris'\n",
      " 'Tire Failure/Inadequate' 'Animals Action' 'Illnes' 'Lost Consciousness'\n",
      " 'Brakes Defective' 'Steering Failure' 'Glare'\n",
      " 'Lane Marking Improper/Inadequate' 'Outside Car Distraction'\n",
      " 'Vehicle Vandalism' 'Failure To Keep Right' 'Pavement Defective'\n",
      " 'Cell Phone (Hand-Held)' 'Aggressive Driving/Road Rage'\n",
      " 'Passenger Distraction' 'Driverless/Runaway Vehicle'\n",
      " 'Using On Board Navigation Device' 'Other Electronic Device'\n",
      " 'Accelerator Defective' 'Other Lighting Defects'\n",
      " 'Prescription Medication' 'Physical Disability'\n",
      " 'Shoulders Defective/Improper' 'Tow Hitch Defective'\n",
      " 'Headlights Defective' 'Tinted Windows'\n",
      " 'Traffic Control Device Improper/Non-Working']\n",
      "## contributing_factor_vehicle_2 - 31 ####################\n",
      "['Driver Inattention/Distraction' 'Unsafe Speed' nan 'Unspecified'\n",
      " 'Failure To Yield Right-Of-Way' 'Traffic Control Disregarded'\n",
      " 'Following Too Closely' 'Turning Improperly' 'Outside Car Distraction'\n",
      " 'Passing Too Closely' 'Other Vehicular' 'Unsafe Lane Changing'\n",
      " 'Pavement Slippery' 'Reaction To Uninvolved Vehicle'\n",
      " 'Driver Inexperience' 'Passing Or Lane Usage Improper'\n",
      " 'View Obstructed/Limited'\n",
      " 'Pedestrian/Bicyclist/Other Pedestrian Error/Confusion'\n",
      " 'Oversized Vehicle' 'Backing Unsafely' 'Passenger Distraction'\n",
      " 'Aggressive Driving/Road Rage' 'Obstruction/Debris' 'Alcohol Involvement'\n",
      " 'Brakes Defective' 'Failure To Keep Right' 'Headlights Defective'\n",
      " 'Steering Failure' 'Driverless/Runaway Vehicle' 'Pavement Defective'\n",
      " 'Traffic Control Device Improper/Non-Working']\n",
      "## contributing_factor_vehicle_3 - 16 ####################\n",
      "[nan 'Unspecified' 'Pavement Slippery' 'Other Vehicular' 'Unsafe Speed'\n",
      " 'Driver Inattention/Distraction' 'Following Too Closely'\n",
      " 'Unsafe Lane Changing' 'Driver Inexperience'\n",
      " 'Failure To Yield Right-Of-Way' 'Turning Improperly' 'Obstruction/Debris'\n",
      " 'View Obstructed/Limited' 'Reaction To Uninvolved Vehicle'\n",
      " 'Passing Or Lane Usage Improper' 'Aggressive Driving/Road Rage']\n",
      "## contributing_factor_vehicle_4 - 9 ####################\n",
      "[nan 'Unspecified' 'Other Vehicular' 'Driver Inattention/Distraction'\n",
      " 'Pavement Slippery' 'Obstruction/Debris' 'Passing Or Lane Usage Improper'\n",
      " 'Following Too Closely' 'Driver Inexperience']\n",
      "## contributing_factor_vehicle_5 - 7 ####################\n",
      "[nan 'Unspecified' 'Pavement Slippery' 'Obstruction/Debris'\n",
      " 'Following Too Closely' 'Other Vehicular'\n",
      " 'Driver Inattention/Distraction']\n",
      "## collision_id - 10000 ####################\n",
      "## vehicle_type_code_1 - 88 ####################\n",
      "['Sedan' nan 'Bus' 'Taxi' 'Station Wagon/Sport Utility Vehicle'\n",
      " 'Tractor Truck Diesel' 'Box Truck' 'Pick-Up Truck' 'Motorcycle'\n",
      " 'Ambulance' 'Bike' 'E-Scooter' 'Van' 'Tractor Truck Gasoline'\n",
      " 'Convertible' 'Dump' 'Chassis Cab' 'Carry All' '4 Dr Sedan'\n",
      " 'Tow Truck / Wrecker' 'Pk' 'Moped' 'Fork Lift' 'J1' 'Tanker' 'Flat'\n",
      " 'E-Bike' 'Garbage Or Refuse' 'Beverage Truck' 'Tk' 'Truck' 'Commercial'\n",
      " 'Armored Truck' 'Niu' 'School Bus' 'Flat Bed'\n",
      " 'Enclosed Body - Removable Enclosure' 'Sanitaton' 'Firet Truc'\n",
      " 'Lift Boom' 'Truck Trai' 'Ambu' 'Nyc Ems' 'Limo' 'Mta Truck' 'Frht Trail'\n",
      " 'Pickup With Mounted Camper' 'Fire Truck' 'Van Truck' 'G Amb'\n",
      " 'Fdny Ambul' 'Motorscooter' 'Motorbike' '3-Door' 'Pickup' 'Unknown'\n",
      " 'Tow Truck' 'Pallet' 'Concrete Mixer' 'Tow' 'Lunch Wagon' '2 Dr Sedan'\n",
      " 'Ebike' 'Util' 'Firetruck' 'Pick Up Tr' 'Cement Tru' 'Scooter' 'Amb'\n",
      " 'Government' 'Flat Bed T' 'Usps Truc,' 'Usps Truck' 'Flat Rack' 'Vms'\n",
      " 'Mta' 'Fdny Engin' 'Stak' 'Road Sweep' 'Bulk Agriculture' 'Trk'\n",
      " 'U Haul Tru' 'Rep' 'Ladder Tru' 'Usps 88716' 'Tractor' 'Snow Plow'\n",
      " 'Trailor']\n",
      "## vehicle_type_code_2 - 85 ####################\n",
      "['Sedan' nan 'Tractor Truck Gasoline' 'Tanker' 'Bus' 'Bike' 'Box Truck'\n",
      " 'Pk' 'E-Bike' 'Taxi' 'Van' 'Station Wagon/Sport Utility Vehicle'\n",
      " 'Flat Bed' 'Motorscooter' 'Dump' 'Motorcycle' 'Ambulance' 'Pick-Up Truck'\n",
      " 'Fdny Firet' 'Tow Truck / Wrecker' 'Carry All' 'Scooter' 'E-Scooter'\n",
      " 'Garbage Or Refuse' 'Concrete Mixer' 'Unk' '2 Dr Sedan'\n",
      " 'Tractor Truck Diesel' 'Chassis Cab' 'Motorbike' 'Moped' 'Convertible'\n",
      " 'Armored Truck' 'Self Insur' 'Passenger' 'Pallet' 'Wheel Barr'\n",
      " 'Fire Truck' 'Workh Util' 'Flat Rack' 'Ny Ems' 'Stake Or Rack'\n",
      " 'Car Traile' 'Dirt Bike' 'Trailer' 'Pickup Tow' 'Bobcat'\n",
      " 'Bulk Agriculture' 'Police Veh' '3-Door' 'Freight' 'Motorizeds'\n",
      " 'Postal Tru' 'Tractor Tr' 'Usps Truck' 'Usps Van' 'Postal Ser'\n",
      " '4 Dr Sedan' 'Ambu' 'Amazon Tru' 'Econoline' 'Mail Truck' 'Minibike'\n",
      " 'Pick Up' 'Refrigerated Van' 'Esu Rep' 'Gas Scoote' 'Pas' 'School Bus'\n",
      " 'Llv Mail T' 'Minicycle' 'Unknown' 'E-Sooter' 'Limo' 'Sprinter V'\n",
      " 'Tow Truck' 'Uhaul Box' 'Firetruck' 'Utility' 'Trk' 'Pedi Cab'\n",
      " 'Lift Boom' 'E- Motor B' 'Del' 'Hopper']\n",
      "## vehicle_type_code_3 - 26 ####################\n",
      "[nan 'Box Truck' 'Sedan' 'Pick-Up Truck' 'Bus'\n",
      " 'Station Wagon/Sport Utility Vehicle' 'Taxi' '4 Dr Sedan' 'Bike'\n",
      " 'Motorscooter' 'Tanker' 'Motorcycle' 'Tractor Truck Diesel' 'Pick Up'\n",
      " 'Van' 'Flat Rack' 'Convertible' 'Flat Bed' 'House On W' 'Pk' 'Unk'\n",
      " 'Garbage Or Refuse' 'Van Truck' 'Unkown' 'Carry All' 'Usps Mail']\n",
      "## vehicle_type_code_4 - 13 ####################\n",
      "[nan 'Sedan' 'Station Wagon/Sport Utility Vehicle' 'Pick-Up Truck' 'Van'\n",
      " 'Uhaul' 'Taxi' 'Motorcycle' 'Dump' 'Box Truck' 'Bike' 'Pk'\n",
      " 'Tractor Truck Diesel']\n",
      "## vehicle_type_code_5 - 8 ####################\n",
      "[nan 'Sedan' 'Station Wagon/Sport Utility Vehicle' 'Taxi' 'Pick-Up Truck'\n",
      " 'Motorcycle' 'Bike' 'Van Ford']\n"
     ]
    }
   ],
   "source": [
    "# Check amout of unique value by column with missing values\n",
    "for col in nyc_mvc:\n",
    "    #if nyc_mvc[col].isna().sum() > 0:\n",
    "        unique_values = nyc_mvc[col].unique()\n",
    "        print(f\"## {col} - {len(unique_values)} ####################\")\n",
    "        if(len(unique_values) < 100):\n",
    "            print(nyc_mvc[col].unique())"
   ]
  },
  {
   "cell_type": "markdown",
   "metadata": {},
   "source": [
    "### Easy to fix"
   ]
  },
  {
   "cell_type": "code",
   "execution_count": 19,
   "metadata": {},
   "outputs": [],
   "source": [
    "nyc_mvc.number_of_persons_injured = (nyc_mvc.number_of_cyclist_injured + \n",
    "                                     nyc_mvc.number_of_motorist_injured + \n",
    "                                     nyc_mvc.number_of_pedestrians_injured)"
   ]
  },
  {
   "cell_type": "code",
   "execution_count": 20,
   "metadata": {},
   "outputs": [],
   "source": [
    "nyc_mvc.number_of_persons_killed = (nyc_mvc.number_of_cyclist_killed + \n",
    "                                    nyc_mvc.number_of_cyclist_killed + \n",
    "                                    nyc_mvc.number_of_cyclist_killed)"
   ]
  },
  {
   "cell_type": "code",
   "execution_count": 21,
   "metadata": {},
   "outputs": [],
   "source": [
    "# Contributing factor vehicle\n",
    "# NaN -> Unspecified\n",
    "missing_cfv = \"Unspecified\"\n",
    "\n",
    "nyc_mvc.contributing_factor_vehicle_1.fillna(missing_cfv, inplace=True)\n",
    "nyc_mvc.contributing_factor_vehicle_2.fillna(missing_cfv, inplace=True)\n",
    "nyc_mvc.contributing_factor_vehicle_3.fillna(missing_cfv, inplace=True)\n",
    "nyc_mvc.contributing_factor_vehicle_4.fillna(missing_cfv, inplace=True)\n",
    "nyc_mvc.contributing_factor_vehicle_5.fillna(missing_cfv, inplace=True)"
   ]
  },
  {
   "cell_type": "code",
   "execution_count": 22,
   "metadata": {},
   "outputs": [],
   "source": [
    "# Vehicle type code\n",
    "# NaN -> Unspecified\n",
    "# + Rename column for naming standardization\n",
    "missing_vtc = \"Unspecified\"\n",
    "\n",
    "nyc_mvc.vehicle_type_code_1.fillna(missing_vtc, inplace=True)\n",
    "nyc_mvc.vehicle_type_code_2.fillna(missing_vtc, inplace=True)\n",
    "nyc_mvc.vehicle_type_code_3.fillna(missing_vtc, inplace=True)\n",
    "nyc_mvc.vehicle_type_code_4.fillna(missing_vtc, inplace=True)\n",
    "nyc_mvc.vehicle_type_code_5.fillna(missing_vtc, inplace=True)"
   ]
  },
  {
   "cell_type": "markdown",
   "metadata": {},
   "source": [
    "### Hard to fix"
   ]
  },
  {
   "cell_type": "markdown",
   "metadata": {},
   "source": [
    "##### Location"
   ]
  },
  {
   "cell_type": "raw",
   "metadata": {},
   "source": [
    "Try to compute from the orther row with same street info\n",
    "    Less than 0.3% of increase \n",
    "    With 100.000 rows\n",
    "    Missing values  before 8.035 \n",
    "                    after  7.719\n",
    "To test call an API (i.e. Google map API)\n",
    "    Risk of long duration\n",
    "        missing values * API response time"
   ]
  },
  {
   "cell_type": "markdown",
   "metadata": {},
   "source": [
    "##### Street (on, off, cross)"
   ]
  },
  {
   "cell_type": "code",
   "execution_count": 23,
   "metadata": {},
   "outputs": [],
   "source": [
    "# Only start numeric value\n",
    "replace_values = r\"^\\d+\\s\"\n",
    "replace_by = ''\n",
    "\n",
    "nyc_mvc.cross_street_name = nyc_mvc.cross_street_name.replace(replace_values, \n",
    "                                                              replace_by, \n",
    "                                                              regex=True)"
   ]
  },
  {
   "cell_type": "code",
   "execution_count": 24,
   "metadata": {},
   "outputs": [],
   "source": [
    "nyc_mvc.on_street_name.fillna(nyc_mvc.cross_street_name, inplace=True)"
   ]
  },
  {
   "cell_type": "markdown",
   "metadata": {},
   "source": [
    "##### Zip code and borough"
   ]
  },
  {
   "cell_type": "raw",
   "metadata": {},
   "source": [
    "Try to compute the nearest point\n",
    "    With 10.000 OK but slow (37% -> 26%)\n",
    "    With 100.000 crash of the computer\n",
    "\n",
    "\n",
    "\n",
    "Better way founded by using location\n",
    "    35% Missing -> 29.3%\n",
    "\n",
    "Try to compute it on the street info\n",
    "    Poor result"
   ]
  },
  {
   "cell_type": "code",
   "execution_count": 25,
   "metadata": {},
   "outputs": [
    {
     "data": {
      "text/plain": [
       "crash_date                          0\n",
       "crash_time                          0\n",
       "borough                          3761\n",
       "zip_code                         3761\n",
       "latitude                          994\n",
       "longitude                         994\n",
       "location                          994\n",
       "on_street_name                      2\n",
       "off_street_name                  5427\n",
       "cross_street_name                7412\n",
       "number_of_persons_injured           0\n",
       "number_of_persons_killed            0\n",
       "number_of_pedestrians_injured       0\n",
       "number_of_pedestrians_killed        0\n",
       "number_of_cyclist_injured           0\n",
       "number_of_cyclist_killed            0\n",
       "number_of_motorist_injured          0\n",
       "number_of_motorist_killed           0\n",
       "contributing_factor_vehicle_1       0\n",
       "contributing_factor_vehicle_2       0\n",
       "contributing_factor_vehicle_3       0\n",
       "contributing_factor_vehicle_4       0\n",
       "contributing_factor_vehicle_5       0\n",
       "collision_id                        0\n",
       "vehicle_type_code_1                 0\n",
       "vehicle_type_code_2                 0\n",
       "vehicle_type_code_3                 0\n",
       "vehicle_type_code_4                 0\n",
       "vehicle_type_code_5                 0\n",
       "dtype: int64"
      ]
     },
     "execution_count": 25,
     "metadata": {},
     "output_type": "execute_result"
    }
   ],
   "source": [
    "# Check how many rows of each attribute are NaN\n",
    "nyc_mvc.isnull().sum()"
   ]
  },
  {
   "cell_type": "markdown",
   "metadata": {},
   "source": [
    "## Consolidation"
   ]
  },
  {
   "cell_type": "code",
   "execution_count": 26,
   "metadata": {},
   "outputs": [],
   "source": [
    "def check_unique_values(df):\n",
    "    for col in df:\n",
    "        print(f\"{col} - {len(df[col].unique())}\")"
   ]
  },
  {
   "cell_type": "code",
   "execution_count": 27,
   "metadata": {},
   "outputs": [
    {
     "name": "stdout",
     "output_type": "stream",
     "text": [
      "crash_date - 161\n",
      "crash_time - 1283\n",
      "borough - 6\n",
      "zip_code - 184\n",
      "latitude - 7249\n",
      "longitude - 6865\n",
      "location - 7628\n",
      "on_street_name - 2695\n",
      "off_street_name - 1818\n",
      "cross_street_name - 1519\n",
      "number_of_persons_injured - 10\n",
      "number_of_persons_killed - 2\n",
      "number_of_pedestrians_injured - 5\n",
      "number_of_pedestrians_killed - 3\n",
      "number_of_cyclist_injured - 3\n",
      "number_of_cyclist_killed - 2\n",
      "number_of_motorist_injured - 10\n",
      "number_of_motorist_killed - 3\n",
      "contributing_factor_vehicle_1 - 50\n",
      "contributing_factor_vehicle_2 - 30\n",
      "contributing_factor_vehicle_3 - 15\n",
      "contributing_factor_vehicle_4 - 8\n",
      "contributing_factor_vehicle_5 - 6\n",
      "collision_id - 10000\n",
      "vehicle_type_code_1 - 88\n",
      "vehicle_type_code_2 - 85\n",
      "vehicle_type_code_3 - 26\n",
      "vehicle_type_code_4 - 13\n",
      "vehicle_type_code_5 - 8\n"
     ]
    }
   ],
   "source": [
    "check_unique_values(nyc_mvc)"
   ]
  },
  {
   "cell_type": "markdown",
   "metadata": {},
   "source": [
    "#### Vehicle type code"
   ]
  },
  {
   "cell_type": "code",
   "execution_count": 28,
   "metadata": {},
   "outputs": [],
   "source": [
    "# Search vehicle codes with frequency greater than 1% than the size of the df\n",
    "pc_limit = 1\n",
    "\n",
    "vehicle_codes_cnt = (nyc_mvc.vehicle_type_code_1.append(nyc_mvc.vehicle_type_code_2).\n",
    "                                                 append(nyc_mvc.vehicle_type_code_3).\n",
    "                                                 append(nyc_mvc.vehicle_type_code_4).\n",
    "                                                 append(nyc_mvc.vehicle_type_code_5)).value_counts()\n",
    "\n",
    "vehicle_codes_to_rm = vehicle_codes_cnt[(vehicle_codes_cnt.index != missing_vtc) &\n",
    "                                        (vehicle_codes_cnt < len(nyc_mvc)*pc_limit/100)\n",
    "                                       ].index\n",
    "# Keep sure to not suppress the missing replacing value\n",
    "if missing_vtc in vehicle_codes_to_rm:\n",
    "    vehicle_codes_to_rm.remove(missing_vtc)\n",
    "\n",
    "\n",
    "# Replace these codes by \"Other\"\n",
    "other_mvc = \"Other\"\n",
    "nyc_mvc.vehicle_type_code_1.replace(vehicle_codes_to_rm, other_mvc, inplace=True)\n",
    "nyc_mvc.vehicle_type_code_2.replace(vehicle_codes_to_rm, other_mvc, inplace=True)\n",
    "nyc_mvc.vehicle_type_code_3.replace(vehicle_codes_to_rm, other_mvc, inplace=True)\n",
    "nyc_mvc.vehicle_type_code_4.replace(vehicle_codes_to_rm, other_mvc, inplace=True)\n",
    "nyc_mvc.vehicle_type_code_5.replace(vehicle_codes_to_rm, other_mvc, inplace=True)"
   ]
  },
  {
   "cell_type": "code",
   "execution_count": 29,
   "metadata": {},
   "outputs": [
    {
     "data": {
      "text/plain": [
       "Sedan                                  4943\n",
       "Station Wagon/Sport Utility Vehicle    3303\n",
       "Other                                   350\n",
       "Taxi                                    281\n",
       "Pick-Up Truck                           226\n",
       "Box Truck                               170\n",
       "Bike                                    154\n",
       "Bus                                     132\n",
       "Unspecified                             119\n",
       "Tractor Truck Diesel                     92\n",
       "Van                                      72\n",
       "Motorcycle                               67\n",
       "E-Bike                                   46\n",
       "E-Scooter                                45\n",
       "Name: vehicle_type_code_1, dtype: int64"
      ]
     },
     "execution_count": 29,
     "metadata": {},
     "output_type": "execute_result"
    }
   ],
   "source": [
    "nyc_mvc.vehicle_type_code_1.value_counts()"
   ]
  },
  {
   "cell_type": "markdown",
   "metadata": {},
   "source": [
    "##### Street"
   ]
  },
  {
   "cell_type": "raw",
   "metadata": {},
   "source": [
    "Remove start number in cross_street\n",
    "It correspond to the house number\n",
    "\n",
    "Then fill on_street NA by cross_street"
   ]
  },
  {
   "cell_type": "code",
   "execution_count": 30,
   "metadata": {},
   "outputs": [],
   "source": [
    "missing_street = \"Unknown\"\n",
    "nyc_mvc.on_street_name.fillna(missing_street, inplace=True)\n",
    "nyc_mvc.off_street_name.fillna(missing_street, inplace=True)"
   ]
  },
  {
   "cell_type": "code",
   "execution_count": 31,
   "metadata": {},
   "outputs": [],
   "source": [
    "nyc_mvc.borough.fillna(\"Unknown\", inplace=True)\n",
    "nyc_mvc.zip_code.fillna(\"-1\", inplace=True)"
   ]
  },
  {
   "cell_type": "code",
   "execution_count": 32,
   "metadata": {},
   "outputs": [
    {
     "data": {
      "text/plain": [
       "crash_date                          0\n",
       "crash_time                          0\n",
       "borough                             0\n",
       "zip_code                            0\n",
       "latitude                          994\n",
       "longitude                         994\n",
       "location                          994\n",
       "on_street_name                      0\n",
       "off_street_name                     0\n",
       "cross_street_name                7412\n",
       "number_of_persons_injured           0\n",
       "number_of_persons_killed            0\n",
       "number_of_pedestrians_injured       0\n",
       "number_of_pedestrians_killed        0\n",
       "number_of_cyclist_injured           0\n",
       "number_of_cyclist_killed            0\n",
       "number_of_motorist_injured          0\n",
       "number_of_motorist_killed           0\n",
       "contributing_factor_vehicle_1       0\n",
       "contributing_factor_vehicle_2       0\n",
       "contributing_factor_vehicle_3       0\n",
       "contributing_factor_vehicle_4       0\n",
       "contributing_factor_vehicle_5       0\n",
       "collision_id                        0\n",
       "vehicle_type_code_1                 0\n",
       "vehicle_type_code_2                 0\n",
       "vehicle_type_code_3                 0\n",
       "vehicle_type_code_4                 0\n",
       "vehicle_type_code_5                 0\n",
       "dtype: int64"
      ]
     },
     "execution_count": 32,
     "metadata": {},
     "output_type": "execute_result"
    }
   ],
   "source": [
    "# Check how many rows of each attribute are NaN\n",
    "nyc_mvc.isnull().sum()"
   ]
  },
  {
   "cell_type": "markdown",
   "metadata": {},
   "source": [
    "## Drop unuseful row/column"
   ]
  },
  {
   "cell_type": "code",
   "execution_count": 33,
   "metadata": {},
   "outputs": [],
   "source": [
    "# Rows without location\n",
    "nyc_mvc.drop(nyc_mvc[nyc_mvc.location.isna()].index,\n",
    "             inplace=True)"
   ]
  },
  {
   "cell_type": "code",
   "execution_count": 34,
   "metadata": {},
   "outputs": [],
   "source": [
    "# Columns\n",
    "nyc_mvc.drop(columns=[\"collision_id\", \n",
    "                      \"cross_street_name\",\n",
    "                      \"location\"],\n",
    "             inplace=True)"
   ]
  },
  {
   "cell_type": "markdown",
   "metadata": {},
   "source": [
    "## Dtype conversion"
   ]
  },
  {
   "cell_type": "code",
   "execution_count": 35,
   "metadata": {},
   "outputs": [
    {
     "data": {
      "text/plain": [
       "crash_date                        object\n",
       "crash_time                        object\n",
       "borough                           object\n",
       "zip_code                          object\n",
       "latitude                         float64\n",
       "longitude                        float64\n",
       "on_street_name                    object\n",
       "off_street_name                   object\n",
       "number_of_persons_injured          int64\n",
       "number_of_persons_killed           int64\n",
       "number_of_pedestrians_injured      int64\n",
       "number_of_pedestrians_killed       int64\n",
       "number_of_cyclist_injured          int64\n",
       "number_of_cyclist_killed           int64\n",
       "number_of_motorist_injured         int64\n",
       "number_of_motorist_killed          int64\n",
       "contributing_factor_vehicle_1     object\n",
       "contributing_factor_vehicle_2     object\n",
       "contributing_factor_vehicle_3     object\n",
       "contributing_factor_vehicle_4     object\n",
       "contributing_factor_vehicle_5     object\n",
       "vehicle_type_code_1               object\n",
       "vehicle_type_code_2               object\n",
       "vehicle_type_code_3               object\n",
       "vehicle_type_code_4               object\n",
       "vehicle_type_code_5               object\n",
       "dtype: object"
      ]
     },
     "execution_count": 35,
     "metadata": {},
     "output_type": "execute_result"
    }
   ],
   "source": [
    "# Check dtypes\n",
    "nyc_mvc.dtypes"
   ]
  },
  {
   "cell_type": "code",
   "execution_count": 36,
   "metadata": {},
   "outputs": [],
   "source": [
    "# Convert float to int\n",
    "nyc_mvc.zip_code = nyc_mvc.zip_code.astype(int)\n",
    "nyc_mvc.crash_date = pd.to_datetime(nyc_mvc.crash_date, format='%Y-%m-%d')\n",
    "nyc_mvc.crash_time = pd.to_datetime(nyc_mvc.crash_time, format='%H:%M').dt.time"
   ]
  },
  {
   "cell_type": "markdown",
   "metadata": {},
   "source": [
    "## Save output"
   ]
  },
  {
   "cell_type": "code",
   "execution_count": 37,
   "metadata": {},
   "outputs": [],
   "source": [
    "nyc_mvc.to_csv(f\"data/data_{file_size}_out.csv\", index=False)"
   ]
  },
  {
   "cell_type": "markdown",
   "metadata": {},
   "source": [
    "## Final Data Profiling"
   ]
  },
  {
   "cell_type": "code",
   "execution_count": 38,
   "metadata": {},
   "outputs": [
    {
     "data": {
      "application/vnd.jupyter.widget-view+json": {
       "model_id": "c2c59734443e4489aef1b86e2a07a7e4",
       "version_major": 2,
       "version_minor": 0
      },
      "text/plain": [
       "HBox(children=(HTML(value='Summarize dataset'), FloatProgress(value=0.0, max=41.0), HTML(value='')))"
      ]
     },
     "metadata": {},
     "output_type": "display_data"
    },
    {
     "name": "stdout",
     "output_type": "stream",
     "text": [
      "\n"
     ]
    },
    {
     "data": {
      "application/vnd.jupyter.widget-view+json": {
       "model_id": "3e135858b302478f83a4d8dd68166e78",
       "version_major": 2,
       "version_minor": 0
      },
      "text/plain": [
       "HBox(children=(HTML(value='Generate report structure'), FloatProgress(value=0.0, max=1.0), HTML(value='')))"
      ]
     },
     "metadata": {},
     "output_type": "display_data"
    },
    {
     "name": "stdout",
     "output_type": "stream",
     "text": [
      "\n"
     ]
    },
    {
     "data": {
      "application/vnd.jupyter.widget-view+json": {
       "model_id": "50fdd45762fa4f0a9f95b90ea52ce68e",
       "version_major": 2,
       "version_minor": 0
      },
      "text/plain": [
       "HBox(children=(HTML(value='Render HTML'), FloatProgress(value=0.0, max=1.0), HTML(value='')))"
      ]
     },
     "metadata": {},
     "output_type": "display_data"
    },
    {
     "name": "stdout",
     "output_type": "stream",
     "text": [
      "\n"
     ]
    },
    {
     "data": {
      "application/vnd.jupyter.widget-view+json": {
       "model_id": "0bba9fae867e45e6a7892a815cf9b296",
       "version_major": 2,
       "version_minor": 0
      },
      "text/plain": [
       "HBox(children=(HTML(value='Export report to file'), FloatProgress(value=0.0, max=1.0), HTML(value='')))"
      ]
     },
     "metadata": {},
     "output_type": "display_data"
    },
    {
     "name": "stdout",
     "output_type": "stream",
     "text": [
      "\n"
     ]
    }
   ],
   "source": [
    "prof = ProfileReport(nyc_mvc)\n",
    "prof.to_file(output_file=f\"profiling/profile_report_{file_size}_out.html\")"
   ]
  }
 ],
 "metadata": {
  "kernelspec": {
   "display_name": "Python 3",
   "language": "python",
   "name": "python3"
  },
  "language_info": {
   "codemirror_mode": {
    "name": "ipython",
    "version": 3
   },
   "file_extension": ".py",
   "mimetype": "text/x-python",
   "name": "python",
   "nbconvert_exporter": "python",
   "pygments_lexer": "ipython3",
   "version": "3.8.3"
  }
 },
 "nbformat": 4,
 "nbformat_minor": 4
}
