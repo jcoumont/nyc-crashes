{
 "cells": [
  {
   "cell_type": "markdown",
   "metadata": {},
   "source": [
    "# NYC Motor Vehicle Crashes\n",
    "## Data preprocessing"
   ]
  },
  {
   "cell_type": "code",
   "execution_count": 1,
   "metadata": {},
   "outputs": [],
   "source": [
    "import re\n",
    "\n",
    "import pandas as pd\n",
    "import numpy as np\n",
    "\n",
    "from pandas_profiling import ProfileReport\n",
    "\n",
    "from sklearn import datasets\n",
    "from sklearn.compose import ColumnTransformer\n",
    "from sklearn.model_selection import train_test_split\n",
    "from sklearn.preprocessing import StandardScaler"
   ]
  },
  {
   "cell_type": "code",
   "execution_count": 2,
   "metadata": {},
   "outputs": [],
   "source": [
    "pd.set_option(\"display.max_columns\", None)"
   ]
  },
  {
   "cell_type": "code",
   "execution_count": 3,
   "metadata": {},
   "outputs": [],
   "source": [
    "file_size = 10000\n",
    "filename = f\"data/data_{file_size}_out.csv\"\n",
    "\n",
    "dtypes = {\"crash_date\": str,\n",
    "          \"crash_time\": str,\n",
    "          \"borough\": str,\n",
    "          \"zip_code\": str,\n",
    "          \"latitude\": float, \n",
    "          \"longitude\": float, \n",
    "          \"on_street_name\": str,\n",
    "          \"off_street_name\": str,\n",
    "          \"number_of_persons_injured\": int,\n",
    "          \"number_of_persons_killed\": int,\n",
    "          \"number_of_pedestrians_injured\": int,\n",
    "          \"number_of_pedestrians_killed\": int,\n",
    "          \"number_of_cyclist_injured\": int,\n",
    "          \"number_of_cyclist_killed\": int,\n",
    "          \"number_of_motorist_injured\": int,\n",
    "          \"number_of_motorist_killed\": int,\n",
    "          \"contributing_factor_vehicle_1\": str,\n",
    "          \"contributing_factor_vehicle_2\": str,\n",
    "          \"contributing_factor_vehicle_3\": str,\n",
    "          \"contributing_factor_vehicle_4\": str,\n",
    "          \"contributing_factor_vehicle_5\": str,\n",
    "          \"vehicle_type_code1\": str,\n",
    "          \"vehicle_type_code2\": str,\n",
    "          \"vehicle_type_code_3\": str,\n",
    "          \"vehicle_type_code_4\": str,\n",
    "          \"vehicle_type_code_5\": str}\n",
    "\n",
    "nyc_mvc = pd.read_csv(filename, dtype=dtypes)"
   ]
  },
  {
   "cell_type": "code",
   "execution_count": 4,
   "metadata": {},
   "outputs": [
    {
     "data": {
      "text/plain": [
       "crash_date                        object\n",
       "crash_time                        object\n",
       "borough                           object\n",
       "zip_code                          object\n",
       "latitude                         float64\n",
       "longitude                        float64\n",
       "on_street_name                    object\n",
       "off_street_name                   object\n",
       "number_of_persons_injured          int64\n",
       "number_of_persons_killed           int64\n",
       "number_of_pedestrians_injured      int64\n",
       "number_of_pedestrians_killed       int64\n",
       "number_of_cyclist_injured          int64\n",
       "number_of_cyclist_killed           int64\n",
       "number_of_motorist_injured         int64\n",
       "number_of_motorist_killed          int64\n",
       "contributing_factor_vehicle_1     object\n",
       "contributing_factor_vehicle_2     object\n",
       "contributing_factor_vehicle_3     object\n",
       "contributing_factor_vehicle_4     object\n",
       "contributing_factor_vehicle_5     object\n",
       "vehicle_type_code_1               object\n",
       "vehicle_type_code_2               object\n",
       "vehicle_type_code_3               object\n",
       "vehicle_type_code_4               object\n",
       "vehicle_type_code_5               object\n",
       "dtype: object"
      ]
     },
     "execution_count": 4,
     "metadata": {},
     "output_type": "execute_result"
    }
   ],
   "source": [
    "nyc_mvc.dtypes"
   ]
  },
  {
   "cell_type": "markdown",
   "metadata": {},
   "source": [
    "### Features slicing"
   ]
  },
  {
   "cell_type": "code",
   "execution_count": 5,
   "metadata": {},
   "outputs": [],
   "source": [
    "# Convert date and time\n",
    "nyc_mvc.crash_date = pd.to_datetime(nyc_mvc.crash_date, format='%Y-%m-%d')\n",
    "nyc_mvc.crash_time = pd.to_datetime(nyc_mvc.crash_time, format='%H:%M:%S').dt.time\n",
    "\n",
    "# Date -> Day Month Year DayOfWeek\n",
    "nyc_mvc = pd.concat([nyc_mvc, nyc_mvc.crash_date.apply(lambda x : pd.Series({\"year\": x.year, \n",
    "                                                                             \"month\": x.month, \n",
    "                                                                             \"day\": x.day,\n",
    "                                                                             \"day_of_week\": x.day,\n",
    "                                                                             \"week\": x.week\n",
    "                                                                            }))], axis=1)\n",
    "\n",
    "# Time -> Hour & Minute\n",
    "nyc_mvc = pd.concat([nyc_mvc, nyc_mvc.crash_time.apply(lambda x : pd.Series({\"hour\": x.hour, \n",
    "                                                                             \"minute\": x.minute\n",
    "                                                                            }))], axis=1)"
   ]
  },
  {
   "cell_type": "code",
   "execution_count": 6,
   "metadata": {},
   "outputs": [],
   "source": [
    "# Number of persons killed \n",
    "nyc_mvc.loc[nyc_mvc.number_of_persons_killed>0,\"persons_killed\"] = 1\n",
    "nyc_mvc.persons_killed.fillna(0, inplace=True)\n",
    "\n",
    "# Number of persons injured\n",
    "nyc_mvc.loc[nyc_mvc.number_of_persons_injured>0,\"persons_injured\"] = 1\n",
    "nyc_mvc.persons_injured.fillna(0, inplace=True)\n",
    "\n",
    "# Number of pedestrians killed\n",
    "nyc_mvc.loc[nyc_mvc.number_of_pedestrians_killed>0,\"pedestrians_killed\"] = 1\n",
    "nyc_mvc.pedestrians_killed.fillna(0, inplace=True)\n",
    "\n",
    "# Number of pedestrians injured\n",
    "nyc_mvc.loc[nyc_mvc.number_of_pedestrians_injured>0,\"pedestrians_injured\"] = 1\n",
    "nyc_mvc.pedestrians_injured.fillna(0, inplace=True)\n",
    "\n",
    "# Number of cyclist killed\n",
    "nyc_mvc.loc[nyc_mvc.number_of_cyclist_killed>0,\"cyclist_killed\"] = 1\n",
    "nyc_mvc.cyclist_killed.fillna(0, inplace=True)\n",
    "\n",
    "# Number of cyclist injured\n",
    "nyc_mvc.loc[nyc_mvc.number_of_cyclist_injured>0,\"cyclist_injured\"] = 1\n",
    "nyc_mvc.cyclist_injured.fillna(0, inplace=True)\n",
    "\n",
    "# Number of motorist killed\n",
    "nyc_mvc.loc[nyc_mvc.number_of_motorist_killed>0,\"motorist_killed\"] = 1\n",
    "nyc_mvc.motorist_killed.fillna(0, inplace=True)\n",
    "\n",
    "# Number of motorist injured\n",
    "nyc_mvc.loc[nyc_mvc.number_of_motorist_injured>0,\"motorist_injured\"] = 1\n",
    "nyc_mvc.motorist_injured.fillna(0, inplace=True)"
   ]
  },
  {
   "cell_type": "markdown",
   "metadata": {},
   "source": [
    "### Dummies"
   ]
  },
  {
   "cell_type": "code",
   "execution_count": 7,
   "metadata": {},
   "outputs": [],
   "source": [
    "dummies = pd.get_dummies(nyc_mvc[[\"borough\",\n",
    "                                  \"contributing_factor_vehicle_1\",\n",
    "                                  \"contributing_factor_vehicle_2\",\n",
    "                                  \"contributing_factor_vehicle_3\",\n",
    "                                  \"contributing_factor_vehicle_4\",\n",
    "                                  \"contributing_factor_vehicle_5\",\n",
    "                                  \"vehicle_type_code_1\", \n",
    "                                  \"vehicle_type_code_2\", \n",
    "                                  \"vehicle_type_code_3\",\n",
    "                                  \"vehicle_type_code_4\",\n",
    "                                  \"vehicle_type_code_5\"]], prefix='', prefix_sep='').max(level=0, axis=1)\n",
    "\n",
    "nyc_mvc = pd.concat([nyc_mvc, dummies], axis=1)\n"
   ]
  },
  {
   "cell_type": "markdown",
   "metadata": {},
   "source": [
    "## Splitting"
   ]
  },
  {
   "cell_type": "code",
   "execution_count": 8,
   "metadata": {},
   "outputs": [],
   "source": [
    "# Remove non essential columns\n",
    "nyc_mvc.drop(columns=[\"borough\",\n",
    "                      \"contributing_factor_vehicle_1\",\n",
    "                      \"contributing_factor_vehicle_2\",\n",
    "                      \"contributing_factor_vehicle_3\",\n",
    "                      \"contributing_factor_vehicle_4\",\n",
    "                      \"contributing_factor_vehicle_5\",\n",
    "                      \"vehicle_type_code_1\", \n",
    "                      \"vehicle_type_code_2\", \n",
    "                      \"vehicle_type_code_3\",\n",
    "                      \"vehicle_type_code_4\",\n",
    "                      \"vehicle_type_code_5\",\n",
    "                      \"Unknown\", \n",
    "                      \"Unspecified\",\n",
    "                      \"number_of_persons_injured\",\n",
    "                      \"number_of_persons_killed\",\n",
    "                      \"number_of_pedestrians_injured\",\n",
    "                      \"number_of_pedestrians_killed\",\n",
    "                      \"number_of_cyclist_injured\",\n",
    "                      \"number_of_cyclist_killed\",\n",
    "                      \"number_of_motorist_injured\",\n",
    "                      \"number_of_motorist_killed\",\n",
    "                      \"crash_date\",\n",
    "                      \"crash_time\"\n",
    "                     ],\n",
    "             inplace=True)"
   ]
  },
  {
   "cell_type": "code",
   "execution_count": 9,
   "metadata": {},
   "outputs": [],
   "source": [
    "# Define the target\n",
    "target = nyc_mvc.persons_killed.astype(int)\n",
    "\n",
    "# Remove the target columns\n",
    "nyc_mvc.drop(columns=[\"persons_killed\",\n",
    "                      \"persons_injured\",\n",
    "                      \"persons_killed\",\n",
    "                      \"persons_injured\",\n",
    "                      \"pedestrians_killed\",\n",
    "                      \"pedestrians_injured\",\n",
    "                      \"cyclist_killed\",\n",
    "                      \"cyclist_injured\",\n",
    "                      \"motorist_killed\",\n",
    "                      \"motorist_injured\"],\n",
    "             inplace=True)"
   ]
  },
  {
   "cell_type": "code",
   "execution_count": 10,
   "metadata": {},
   "outputs": [
    {
     "name": "stdout",
     "output_type": "stream",
     "text": [
      "(7204, 79)\n",
      "(1802, 79)\n",
      "(7204,)\n",
      "(1802,)\n"
     ]
    }
   ],
   "source": [
    "X_train, X_test, y_train, y_test = train_test_split(nyc_mvc, target, random_state=41, test_size=0.2)\n",
    "print(X_train.shape)\n",
    "print(X_test.shape)\n",
    "print(y_train.shape)\n",
    "print(y_test.shape)"
   ]
  },
  {
   "cell_type": "code",
   "execution_count": 11,
   "metadata": {},
   "outputs": [
    {
     "data": {
      "application/vnd.jupyter.widget-view+json": {
       "model_id": "3656ce4e4108498bb379b94313828f6d",
       "version_major": 2,
       "version_minor": 0
      },
      "text/plain": [
       "HBox(children=(HTML(value='Summarize dataset'), FloatProgress(value=0.0, max=93.0), HTML(value='')))"
      ]
     },
     "metadata": {},
     "output_type": "display_data"
    },
    {
     "name": "stdout",
     "output_type": "stream",
     "text": [
      "\n"
     ]
    },
    {
     "data": {
      "application/vnd.jupyter.widget-view+json": {
       "model_id": "428532e93130411ebe59605e8ec4cc23",
       "version_major": 2,
       "version_minor": 0
      },
      "text/plain": [
       "HBox(children=(HTML(value='Generate report structure'), FloatProgress(value=0.0, max=1.0), HTML(value='')))"
      ]
     },
     "metadata": {},
     "output_type": "display_data"
    },
    {
     "name": "stdout",
     "output_type": "stream",
     "text": [
      "\n"
     ]
    },
    {
     "data": {
      "application/vnd.jupyter.widget-view+json": {
       "model_id": "bc2089c95c074ad18eece0a24f2f5625",
       "version_major": 2,
       "version_minor": 0
      },
      "text/plain": [
       "HBox(children=(HTML(value='Render HTML'), FloatProgress(value=0.0, max=1.0), HTML(value='')))"
      ]
     },
     "metadata": {},
     "output_type": "display_data"
    },
    {
     "name": "stdout",
     "output_type": "stream",
     "text": [
      "\n"
     ]
    },
    {
     "data": {
      "application/vnd.jupyter.widget-view+json": {
       "model_id": "683554b30abf4257919f5d53854269c6",
       "version_major": 2,
       "version_minor": 0
      },
      "text/plain": [
       "HBox(children=(HTML(value='Export report to file'), FloatProgress(value=0.0, max=1.0), HTML(value='')))"
      ]
     },
     "metadata": {},
     "output_type": "display_data"
    },
    {
     "name": "stdout",
     "output_type": "stream",
     "text": [
      "\n"
     ]
    }
   ],
   "source": [
    "prof = ProfileReport(nyc_mvc)\n",
    "prof.to_file(output_file=f\"profiling/profile_report_{file_size}_final.html\")"
   ]
  },
  {
   "cell_type": "markdown",
   "metadata": {},
   "source": [
    "## Features standardization"
   ]
  },
  {
   "cell_type": "code",
   "execution_count": 12,
   "metadata": {},
   "outputs": [],
   "source": [
    "# Standardize training and testing set using the mean and standard deviation from the training set\n",
    "ct = ColumnTransformer([('std1', StandardScaler(), [\"zip_code\", \"latitude\", \"longitude\", \n",
    "                                                    \"year\", \"month\", \"day\", \"week\", \"day_of_week\",\n",
    "                                                    \"hour\", \"minute\"])\n",
    "                       ], remainder='passthrough')\n",
    "X_train = ct.fit_transform(X_train)\n",
    "X_test = ct.transform(X_test)"
   ]
  },
  {
   "cell_type": "code",
   "execution_count": 13,
   "metadata": {},
   "outputs": [
    {
     "data": {
      "text/plain": [
       "array([[0.7654518286896713, -1.303392249981017, -1.3056336332641936, ...,\n",
       "        0, 0, 0],\n",
       "       [0.7664235155858917, -0.5999027815107898, 0.06629377487406665,\n",
       "        ..., 0, 0, 0],\n",
       "       [0.6156177092924978, 1.3715817215708983, 0.04878058425554455, ...,\n",
       "        0, 0, 0],\n",
       "       ...,\n",
       "       [0.8056796661931926, -0.4522891597562777, 1.3946936071627607, ...,\n",
       "        0, 0, 0],\n",
       "       [-1.4167626028419253, -0.3885822282622054, -1.0299833100918168,\n",
       "        ..., 0, 0, 0],\n",
       "       [-1.4167626028419253, -0.014109777284855851, 1.2292182796935591,\n",
       "        ..., 0, 0, 0]], dtype=object)"
      ]
     },
     "execution_count": 13,
     "metadata": {},
     "output_type": "execute_result"
    }
   ],
   "source": [
    "X_train"
   ]
  },
  {
   "cell_type": "code",
   "execution_count": 14,
   "metadata": {},
   "outputs": [
    {
     "data": {
      "text/plain": [
       "array([[0.721920255739001, 0.1459344652489398, 2.565693638767626, ..., 0,\n",
       "        0, 0],\n",
       "       [0.5324413109760384, 0.7948009174099853, -0.37530619134608373,\n",
       "        ..., 0, 0, 0],\n",
       "       [-1.4167626028419253, 1.3619838480268862, 0.5019343915091126, ...,\n",
       "        0, 0, 0],\n",
       "       ...,\n",
       "       [-1.4167626028419253, 0.5028606168954345, 1.4753272556354244, ...,\n",
       "        0, 0, 0],\n",
       "       [0.7936307486800607, 0.22012375676561333, 0.3619504859404423, ...,\n",
       "        0, 0, 0],\n",
       "       [0.7637027922764748, -1.1784645111487462, -1.1098872422884782,\n",
       "        ..., 0, 0, 0]], dtype=object)"
      ]
     },
     "execution_count": 14,
     "metadata": {},
     "output_type": "execute_result"
    }
   ],
   "source": [
    "X_test"
   ]
  }
 ],
 "metadata": {
  "kernelspec": {
   "display_name": "Python 3",
   "language": "python",
   "name": "python3"
  },
  "language_info": {
   "codemirror_mode": {
    "name": "ipython",
    "version": 3
   },
   "file_extension": ".py",
   "mimetype": "text/x-python",
   "name": "python",
   "nbconvert_exporter": "python",
   "pygments_lexer": "ipython3",
   "version": "3.8.3"
  }
 },
 "nbformat": 4,
 "nbformat_minor": 2
}
